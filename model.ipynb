import pandas as pd
from sklearn.linear_model import LogisticRegression# create df
train = pd.read_csv('Fejl.csv') # change file path# drop null values
train.dropna(inplace=True)# features and target
target = 'Time'
features = ['DV_XI1_PV', 'Alarm']# X matrix, y vector
X = train[target]
y = train[features]# model 
model = LogisticRegression()
model.fit(X, y)
model.score(X, y)
